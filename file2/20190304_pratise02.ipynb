{
 "cells": [
  {
   "cell_type": "code",
   "execution_count": 5,
   "metadata": {},
   "outputs": [],
   "source": [
    "#导入包\n",
    "import pandas as pd\n",
    "from sklearn.model_selection import train_test_split\n",
    "from sklearn.metrics import accuracy_score,roc_auc_score\n",
    "import math\n",
    "import numpy as np\n",
    "from scipy import stats#包括统计工具和随机过程的概率过程\n",
    "from sklearn.utils.multiclass import type_of_target#可以检查变量类型，连续或二分类等\n",
    "from sklearn.model_selection import GridSearchCV#网格搜索(grid search)。\n",
    "from sklearn.ensemble import RandomForestClassifier#随机森林分类器\n",
    "import warnings\n",
    "warnings.filterwarnings(\"ignore\")\n",
    "\n",
    "#加载数据\n",
    "data = pd.read_csv('data_processed_2.csv',encoding='unicode_escape')  #先前处理好的数据\n",
    "X = data.drop(['status'],axis=1)\n",
    "y = data['status']"
   ]
  },
  {
   "cell_type": "markdown",
   "metadata": {},
   "source": [
    "数据集划分"
   ]
  },
  {
   "cell_type": "code",
   "execution_count": 13,
   "metadata": {},
   "outputs": [],
   "source": [
    "X_train,X_test,y_train,y_test = train_test_split(X,y,test_size=0.3,random_state=2018)"
   ]
  },
  {
   "cell_type": "markdown",
   "metadata": {},
   "source": [
    "**特征选择：  **\n",
    "  \n",
    " IV的全称是Information Value，中文意思是信息价值，或者信息量  \n",
    " \n",
    " 计算过程  \n",
    " 1 计算分组的WOE（他表示的是当前这个组中响应的客户和未响应客户的比值，和所有样本中这个比值的差异。这个差异是用这两个比值的比值，再取对数来表示的。WOE越大，这种差异越大，这个分组里的样本响应的可能性就越大，WOE越小，差异越小，这个分组里的样本响应的可能性就越小）  \n",
    "   \n",
    " 2 计算分组的IV  \n",
    "   IV=p(yi)-p(Ni) * WOE  \n",
    "    \n",
    " 3 求和整个变量的IV值  "
   ]
  },
  {
   "cell_type": "code",
   "execution_count": 14,
   "metadata": {
    "scrolled": true
   },
   "outputs": [
    {
     "name": "stdout",
     "output_type": "stream",
     "text": [
      "[('custid', 2.6909066431469095), ('historical_trans_amount', 2.6609646134512865), ('trans_amount_3_month', 2.5546436077538357), ('repayment_capability', 2.327229251967252), ('pawns_auctions_trusts_consume_last_6_month', 2.220777389641486), ('first_transaction_day', 2.164322996058534), ('first_transaction_time', 2.164322996058532), ('abs', 1.966985825643712), ('consfin_avg_limit', 1.692832469252038), ('loans_avg_limit', 1.4613631156793805), ('max_cumulative_consume_later_1_month', 1.4598660465564153), ('consume_mini_time_last_1_month', 1.378784503719742), ('historical_trans_day', 1.1182950410251806), ('consfin_credit_limit', 0.8711723952424449), ('pawns_auctions_trusts_consume_last_1_month', 0.8530625616084101), ('avg_price_last_12_month', 0.7281431950917352), ('loans_score', 0.6627296771379482), ('loans_latest_day', 0.629468278102047), ('apply_score', 0.6279175775788947), ('history_suc_fee', 0.5114093090124674), ('latest_query_day', 0.49299812238889124), ('trans_days_interval_filter', 0.4880412940545046), ('loans_count', 0.4849255037760972), ('loans_long_time', 0.48097292957963106), ('trans_top_time_last_6_month', 0.4612635257618183), ('consfin_max_limit', 0.44986244825478383), ('history_fail_fee', 0.445758269212803), ('take_amount_in_later_12_month_highest', 0.4407207265219969), ('consume_top_time_last_6_month', 0.41584000051793557), ('loans_settle_count', 0.4085386231528474), ('trans_days_interval', 0.39246277224743764), ('loans_max_limit', 0.3812335823962683), ('trans_day_last_12_month', 0.37342876090599736), ('query_sum_count', 0.3668041868419014), ('number_of_trans_from_2011', 0.352216491108135), ('latest_six_month_apply', 0.35010064471506996), ('latest_six_month_loan', 0.34685857975088485), ('loans_product_count', 0.322401977852003), ('latest_three_month_apply', 0.31650661712929323), ('apply_credibility', 0.29567179251898995), ('loans_org_count_behavior', 0.2949546489895982), ('loans_credit_limit', 0.294495742354285), ('query_org_count', 0.29242453540023455), ('transd_mcc', 0.2918805063991929), ('latest_one_month_apply', 0.2872314123354994), ('latest_three_month_loan', 0.28041640099961634), ('loans_credibility_limit', 0.2759769534476746), ('consfin_org_count_behavior', 0.2599727123017558), ('consfin_org_count_current', 0.2599727123017558), ('loans_credibility_behavior', 0.257026862744591), ('latest_query_time_month', 0.2570157668889213), ('loans_cash_count', 0.2543800916124251), ('loans_org_count_current', 0.2543800916124251), ('max_consume_count_later_6_month', 0.25331563513244926), ('trans_top_time_last_1_month', 0.2527874496159604), ('consfin_credibility', 0.2526825803267656), ('loans_overdue_count', 0.25244469195399577), ('consume_top_time_last_1_month', 0.251905459387725), ('query_cash_count', 0.2513449832315515), ('latest_one_month_fail', 0.25041575086113804), ('consfin_product_count', 0.2484151182828843), ('trans_fail_top_count_enum_last_12_month', 0.24778311477157797), ('trans_fail_top_count_enum_last_6_month', 0.24485851836689268), ('latest_one_month_loan', 0.24357719668455058), ('cross_consume_count_last_1_month', 0.24338410524382642), ('avg_consume_less_12_valid_month', 0.24169611289531254), ('loans_latest_time_weekday', 0.23718678565248036), ('query_finance_count', 0.23568021441506806), ('trans_fail_top_count_enum_last_1_month', 0.23519543933090667), ('railway_consume_count_last_12_month', 0.2350460813422388), ('latest_one_month_suc', 0.23313434057293608), ('trans_activity_day', 0.23168003248070962), ('low_volume_percent', 0.2287989055897072), ('Â¶Ã¾Ã\\x8fÃ\\x9fÂ³Ã\\x87Ã\\x8aÃ\\x90', 0.22835785178159998), ('loans_latest_time_month', 0.22706013727436922), ('jewelry_consume_count_last_6_month', 0.22615342289100443), ('trans_amount_increase_rate_lately', 0.22575699159162804), ('middle_volume_percent', 0.22561284954208752), ('Ã\\x92Â»Ã\\x8fÃ\\x9fÂ³Ã\\x87Ã\\x8aÃ\\x90', 0.22518036632519434), ('avg_price_top_last_12_valid_month', 0.2238938441193955), ('Â¾Â³Ã\\x8dÃ¢', 0.22366745673000382), ('regional_mobility', 0.22294260507938155), ('latest_query_time_weekday', 0.2222013479827234), ('rank_trad_1_month', 0.22177032005017255), ('top_trans_count_last_1_month', 0.2207313409567953), ('trans_activity_month', 0.220329496680215), ('Ã\\x86Ã¤Ã\\x8bÃ»Â³Ã\\x87Ã\\x8aÃ\\x90', 0.2185500702073389), ('0', 0.21762415809448848), ('loans_latest_time_year', 0.21752908559953865), ('is_high_user', 0.2175215044170788), ('Ã\\x88Ã½Ã\\x8fÃ\\x9fÂ³Ã\\x87Ã\\x8aÃ\\x90', 0.21751525575491448), ('latest_query_time_year', 0.21718849813514543)]\n",
      "选择出来的iv ['custid', 'historical_trans_amount', 'trans_amount_3_month', 'repayment_capability', 'pawns_auctions_trusts_consume_last_6_month', 'first_transaction_day', 'first_transaction_time', 'abs', 'consfin_avg_limit', 'loans_avg_limit', 'max_cumulative_consume_later_1_month', 'consume_mini_time_last_1_month', 'historical_trans_day', 'consfin_credit_limit', 'pawns_auctions_trusts_consume_last_1_month', 'avg_price_last_12_month', 'loans_score', 'loans_latest_day', 'apply_score', 'history_suc_fee', 'latest_query_day', 'trans_days_interval_filter', 'loans_count', 'loans_long_time', 'trans_top_time_last_6_month', 'consfin_max_limit', 'history_fail_fee', 'take_amount_in_later_12_month_highest', 'consume_top_time_last_6_month', 'loans_settle_count', 'trans_days_interval', 'loans_max_limit', 'trans_day_last_12_month', 'query_sum_count', 'number_of_trans_from_2011', 'latest_six_month_apply', 'latest_six_month_loan', 'loans_product_count', 'latest_three_month_apply'] 一共 39 个变量\n"
     ]
    }
   ],
   "source": [
    "#处理上述特征时, 遇到了IV的极端情况, 响应数为0或未响应数为0。为简单起见, 我们在代码中对极端值进行平滑处理。\n",
    "def discrete(x):\n",
    "    # 使用5等分离散化特征\n",
    "    res  = np.zeros(x.shape)#返回来一个给定形状(shape)和类型的用0填充的数组\n",
    "    for i in range(5):\n",
    "        point1 = stats.scoreatpercentile(x,i*20)#stats.scoreatpercentile(x, 50)  得到x在50%处的数值\n",
    "        point2 = stats.scoreatpercentile(x,(i+1)*20)\n",
    "        x1 = x[np.where((x>= point1)&(x<=point2))]\n",
    "        mask = np.in1d(x,x1)#np.in1d(B,A) # 在序列B中寻找与序列A相同的值，并返回一逻辑值（True,False）\n",
    "        res[mask] = i+1# 将[i, i+1]块内的值标记成i+1\n",
    "    return res\n",
    "\n",
    "def woe_single_x(x,y,feature,event=1):\n",
    "    # event代表预测正例的标签\n",
    "    event_total = sum(y == event)#所有y=1的用户\n",
    "    non_event_total = y.shape[-1] - event_total#所有y=0的用户\n",
    "\n",
    "    iv = 0\n",
    "    woe_dict = {}\n",
    "    for x1 in set(x):  # 遍历各个块\n",
    "        y1 = y.reindex(np.where(x == x1)[0])\n",
    "        event_count = sum(y1 == event)#当前分组中y=1的用户\n",
    "        non_event_count = y1.shape[-1] - event_count#当前分组中y=0的用户\n",
    "        rate_event = event_count / event_total\n",
    "        rate_non_event = non_event_count / non_event_total\n",
    "        #极端值\n",
    "        if rate_event == 0:\n",
    "            rate_event = 0.0001\n",
    "            # woei = -20\n",
    "        elif rate_non_event == 0:\n",
    "            rate_non_event = 0.0001\n",
    "            # woei = 20\n",
    "        woei = math.log(rate_event / rate_non_event)#第i组的WOE值\n",
    "        woe_dict[x1] = woei\n",
    "        iv += (rate_event - rate_non_event) * woei#第i组的IV值\n",
    "    return woe_dict, iv\n",
    "\n",
    "def woe(X,y,event=1):\n",
    "    res_woe = []\n",
    "    iv_dict = {}\n",
    "    for feature in X.columns:\n",
    "        x = X[feature].values\n",
    "        #1.连续特征离散化\n",
    "        if type_of_target(x) == 'continuous':\n",
    "            x = discrete(x)\n",
    "        #2.计算该特征的woe和iv\n",
    "        woe_dict,iv = woe_single_x(x,y,feature,event)\n",
    "        iv_dict[feature] = iv\n",
    "        res_woe.append(woe_dict)\n",
    "    return iv_dict\n",
    "\n",
    "iv_dict = woe(X_train,y_train)#字典\n",
    "iv = sorted(iv_dict.items(),key=lambda x:x[1],reverse=True)#按 IV 值从高到低筛选  列表类型\n",
    "print(iv)#iv含有两列,第一列是特征名，第二列是IV指\n",
    "L = []\n",
    "for item in iv:\n",
    "    if item[1] > 0.3:#选出IV值大于0.3的特征\n",
    "        L.append(item[0])\n",
    "\n",
    "print(\"选择出来的iv\",L,\"一共\",len(L),\"个变量\")#只把第一列读取出来，即把IV值选出来的特征读取出来"
   ]
  },
  {
   "cell_type": "markdown",
   "metadata": {},
   "source": [
    "随机森林挑选特征  \n",
    "  \n",
    "  用随机森林进行特征重要性评估的思想比较简单，主要是看每个特征在随机森林中的**每棵树上做了多大的贡献，然后取平均值，最后比较不同特征之间的贡献大小**。  "
   ]
  },
  {
   "cell_type": "code",
   "execution_count": 15,
   "metadata": {},
   "outputs": [
    {
     "name": "stdout",
     "output_type": "stream",
     "text": [
      "<准确率>训练集： 0.9823\n",
      "测试集： 0.7715\n",
      "<auc值>训练集： 0.9993\n",
      "测试集： 0.7171\n",
      "['trans_fail_top_count_enum_last_1_month', 'apply_score', 'history_fail_fee', 'loans_overdue_count', 'latest_one_month_fail', 'loans_score', 'abs', 'trans_fail_top_count_enum_last_6_month', 'latest_query_day', 'max_cumulative_consume_later_1_month']\n",
      "features个数为： 43\n"
     ]
    }
   ],
   "source": [
    "#模型评估\n",
    "def model_metrics(clf, X_train, X_test, y_train, y_test):\n",
    "    y_train_pred = clf.predict(X_train)\n",
    "    y_test_pred = clf.predict(X_test)\n",
    "\n",
    "    if hasattr(clf,'decision_function'):\n",
    "        y_train_proba = clf.decision_function(X_train)\n",
    "        y_test_proda = clf.decision_function(X_test)\n",
    "    else:\n",
    "        y_train_proba = clf.predict_proba(X_train)[:,1]\n",
    "        y_test_proda = clf.predict_proba(X_test)[:,1]\n",
    "\n",
    "\n",
    "    #准确率\n",
    "    print('<准确率>', end='')\n",
    "    print('训练集：','%.4f'%accuracy_score(y_train,y_train_pred))\n",
    "    print('测试集：','%.4f'%accuracy_score(y_test,y_test_pred))\n",
    "\n",
    "    #auc值：用roc_auc_score或auc\n",
    "    print('<auc值>',end='')\n",
    "    print('训练集：','%.4f'%roc_auc_score(y_train,y_train_proba))\n",
    "    print('测试集：','%.4f'%roc_auc_score(y_test,y_test_proda))\n",
    "    \n",
    "rf0 = RandomForestClassifier(oob_score=True,random_state=2018)\n",
    "rf0.fit(X_train,y_train)\n",
    "\n",
    "model_metrics(rf0,X_train,X_test,y_train,y_test)\n",
    "rf0_impc = pd.Series(rf0.feature_importances_, index=X.columns).sort_values(ascending=False)#随机森林评判特征的重要性\n",
    "fea_gini = rf0_impc[:10].index.tolist()#选出重要性排前10的特征\n",
    "print(fea_gini)\n",
    "\n",
    "\n",
    "#特征合并\n",
    "features = list(set(fea_gini)|set(L))\n",
    "print(\"features个数为：\",len(features))\n",
    "X_train = X_train[features]\n",
    "X_test = X_test[features]"
   ]
  },
  {
   "cell_type": "markdown",
   "metadata": {},
   "source": [
    "  参考资料：IV值和WOE值的理解 https://blog.csdn.net/iModel/article/details/79420437  \n",
    "  https://blog.csdn.net/qq_30006749/article/details/86025350"
   ]
  },
  {
   "cell_type": "code",
   "execution_count": null,
   "metadata": {},
   "outputs": [],
   "source": []
  }
 ],
 "metadata": {
  "kernelspec": {
   "display_name": "Python 3",
   "language": "python",
   "name": "python3"
  },
  "language_info": {
   "codemirror_mode": {
    "name": "ipython",
    "version": 3
   },
   "file_extension": ".py",
   "mimetype": "text/x-python",
   "name": "python",
   "nbconvert_exporter": "python",
   "pygments_lexer": "ipython3",
   "version": "3.6.5"
  },
  "toc": {
   "base_numbering": 1,
   "nav_menu": {},
   "number_sections": true,
   "sideBar": true,
   "skip_h1_title": false,
   "title_cell": "Table of Contents",
   "title_sidebar": "Contents",
   "toc_cell": false,
   "toc_position": {},
   "toc_section_display": true,
   "toc_window_display": false
  }
 },
 "nbformat": 4,
 "nbformat_minor": 2
}
