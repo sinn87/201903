{
 "cells": [
  {
   "cell_type": "code",
   "execution_count": 4,
   "metadata": {
    "collapsed": true
   },
   "outputs": [],
   "source": [
    "import pandas as pd\n",
    "import matplotlib.pyplot as plt\n",
    "from lightgbm import LGBMClassifier \n",
    "from sklearn.model_selection import train_test_split\n",
    "from sklearn.ensemble import RandomForestClassifier,GradientBoostingClassifier\n",
    "from xgboost import XGBClassifier\n",
    "from sklearn.linear_model import LogisticRegression\n",
    "from sklearn.svm import LinearSVC\n",
    "from sklearn.tree import DecisionTreeClassifier\n",
    "from sklearn import metrics\n",
    "from sklearn.metrics import roc_curve\n",
    "\n",
    "import warnings\n",
    "warnings.filterwarnings(\"ignore\")\n",
    "\n",
    "#加载数据\n",
    "data = pd.read_csv('data_processed_2.csv',encoding='unicode_escape')  #先前处理好的数据\n",
    "X = data.drop(['status'],axis=1)\n",
    "y = data['status']"
   ]
  },
  {
   "cell_type": "markdown",
   "metadata": {},
   "source": [
    "数据集划分"
   ]
  },
  {
   "cell_type": "code",
   "execution_count": 5,
   "metadata": {
    "collapsed": true
   },
   "outputs": [],
   "source": [
    "X_train,X_test,y_train,y_test = train_test_split(X,y,test_size=0.3,random_state=2018)"
   ]
  },
  {
   "cell_type": "markdown",
   "metadata": {},
   "source": [
    "建模与评分"
   ]
  },
  {
   "cell_type": "markdown",
   "metadata": {},
   "source": [
    "ROC曲线原理和代码演示  \n",
    "参考资料：https://blog.csdn.net/tttwister/article/details/81159487  \n",
    "  \n",
    "二分类问题常用的评估指标是**精度(precision)、召回率(recall)、F1值(F1-score)**  \n",
    "参考资料：https://blog.csdn.net/tttwister/article/details/81138865"
   ]
  },
  {
   "cell_type": "code",
   "execution_count": 9,
   "metadata": {
    "collapsed": true,
    "scrolled": true
   },
   "outputs": [],
   "source": [
    "#逻辑回归\n",
    "lr = LogisticRegression()\n",
    "lr.fit(X_train,y_train)\n",
    "y_pre_lr = lr.predict(X_test)\n",
    "# 计算accuracy\n",
    "lr_accuracy = metrics.accuracy_score(y_test,y_pre_lr)\n",
    "# 计算precision\n",
    "lr_precision_score = metrics.precicion_score(y_test,y_pre_lr)\n",
    "# 计算recall\n",
    "lr_recall_score = metrics.recall_score(y_test,y_pre_lr)\n",
    "# 计算f1\n",
    "lr_f1_score = metrics.f1_score(y_test,y_pre_lr)\n",
    "# 计算auc\n",
    "lr_roc_auc_score = metrics.roc_auc_score(y_test,y_pre_lr)\n",
    "\n",
    "\n",
    "#线性SVM\n",
    "Svc = LinearSVC()\n",
    "Svc.fit(X_train,y_train)\n",
    "y_pre_svc = Svc.predict(X_test)\n",
    "# 计算accuracy\n",
    "svc_accuracy = metrics.accuracy_score(y_test,y_pre_lr)\n",
    "# 计算precision\n",
    "svc_precision_score = metrics.precicion_score(y_test,y_pre_svc)\n",
    "# 计算recall\n",
    "svc_recall_score = metrics.recall_score(y_test,y_pre_svc)\n",
    "# 计算f1\n",
    "svc_f1_score = metrics.f1_score(y_test,y_pre_svc)\n",
    "# 计算auc\n",
    "svc_roc_auc_score = metrics.roc_auc_score(y_test,y_pre_svc)\n",
    "\n",
    "\n",
    "\n",
    "#决策树\n",
    "dt = DecisionTreeClassifier()\n",
    "dt.fit(X_train,y_train)\n",
    "y_pre_dt = dt.predict(X_test)\n",
    "# 计算accuracy\n",
    "dt_accuracy = metrics.accuracy_score(y_test,y_pre_dt)\n",
    "# 计算precision\n",
    "dt_precision_score = metrics.precicion_score(y_test,y_pre_dt)\n",
    "# 计算recall\n",
    "dt_recall_score = metrics.recall_score(y_test,y_pre_dt)\n",
    "# 计算f1\n",
    "dt_f1_score = metrics.f1_score(y_test,y_pre_dt)\n",
    "# 计算auc\n",
    "dt_roc_auc_score = metrics.roc_auc_score(y_test,y_pre_dt)\n",
    "\n",
    "\n",
    "#随机森林\n",
    "Rfc = RandomForestClassifier()\n",
    "Rfc.fit(X_train,y_train)\n",
    "y_pre_Rfc = Rfc.predict(X_test)\n",
    "# 计算accuracy\n",
    "Rfc_accuracy = metrics.accuracy_score(y_test,y_pre_Rfc)\n",
    "# 计算precision\n",
    "Rfc_precision_score = metrics.precicion_score(y_test,y_pre_Rfc)\n",
    "# 计算recall\n",
    "Rfc_recall_score = metrics.recall_score(y_test,y_pre_Rfc)\n",
    "# 计算f1\n",
    "Rfc_f1_score = metrics.f1_score(y_test,y_pre_Rfc)\n",
    "# 计算auc\n",
    "Rfc_roc_auc_score = metrics.roc_auc_score(y_test,y_pre_Rfc)\n",
    "\n",
    "\n",
    "#GBDT\n",
    "Gbdt = GradientBoostingClassifier()\n",
    "Gbdt.fit(X_train,y_train)\n",
    "y_pre_Gbdt = Gbdt.predict(X_test)\n",
    "# 计算accuracy\n",
    "Gbdt_accuracy = metrics.accuracy_score(y_test,y_pre_Gbdt)\n",
    "# 计算precision\n",
    "Gbdt_precision_score = metrics.precicion_score(y_test,y_pre_Gbdt)\n",
    "# 计算recall\n",
    "Gbdt_recall_score = metrics.recall_score(y_test,y_pre_Gbdt)\n",
    "# 计算f1\n",
    "Gbdt_f1_score = metrics.f1_score(y_test,y_pre_Gbdt)\n",
    "# 计算auc\n",
    "Gbdt_roc_auc_score = metrics.roc_auc_score(y_test,y_pre_Gbdt)\n",
    "\n",
    "\n",
    "#XGBoost\n",
    "Xgb = XGBClassifier()\n",
    "Xgb.fit(X_train,y_train)\n",
    "y_pre_Xgb = Xgb.predict(X_test)\n",
    "# 计算accuracy\n",
    "Xgb_accuracy = metrics.accuracy_score(y_test,y_pre_Xgb)\n",
    "# 计算precision\n",
    "Xgb_precision_score = metrics.precicion_score(y_test,y_pre_Xgb)\n",
    "# 计算recall\n",
    "Xgb_recall_score = metrics.recall_score(y_test,y_pre_Xgb)\n",
    "# 计算f1\n",
    "Xgb_f1_score = metrics.f1_score(y_test,y_pre_Xgb)\n",
    "# 计算auc\n",
    "Xgb_roc_auc_score = metrics.roc_auc_score(y_test,y_pre_Xgb)\n",
    "\n",
    "#LightGBM\n",
    "Lgb = LGBMClassifier()\n",
    "Lgb.fit(X_train,y_train)\n",
    "y_pre_Lgb = Lgb.predict(X_test)\n",
    "# 计算accuracy\n",
    "Lgb_accuracy = metrics.accuracy_score(y_test,y_pre_Lgb)\n",
    "# 计算precision\n",
    "Lgb_precision_score = metrics.precicion_score(y_test,y_pre_Lgb)\n",
    "# 计算recall\n",
    "Lgb_recall_score = metrics.recall_score(y_test,y_pre_Lgb)\n",
    "# 计算f1\n",
    "Lgb_f1_score = metrics.f1_score(y_test,y_pre_Lgb)\n",
    "# 计算auc\n",
    "Lgb_roc_auc_score = metrics.roc_auc_score(y_test,y_pre_Lgb)\n"
   ]
  },
  {
   "cell_type": "markdown",
   "metadata": {},
   "source": [
    "**ROC图形打印**"
   ]
  },
  {
   "cell_type": "code",
   "execution_count": 18,
   "metadata": {
    "collapsed": false
   },
   "outputs": [
    {
     "data": {
      "text/plain": [
       "Text(0.5,1,'ROC curve')"
      ]
     },
     "execution_count": 18,
     "metadata": {},
     "output_type": "execute_result"
    },
    {
     "data": {
      "image/png": "[encoded data removed]",
      "text/plain": [
       "<Figure size 432x432 with 1 Axes>"
      ]
     },
     "metadata": {},
     "output_type": "display_data"
    }
   ],
   "source": [
    "y_score_lr = lr.predict_proba(X_test)[:,1]\n",
    "#y_score_svc = Svc.predict_proba(X_test)[:,1]\n",
    "y_score_rfc = Rfc.predict_proba(X_test)[:,1]\n",
    "y_score_dt = dt.predict_proba(X_test)[:,1]\n",
    "y_score_gbc = Gbdt.predict_proba(X_test)[:,1]\n",
    "y_score_xgb = Xgb.predict_proba(X_test)[:,1]\n",
    "y_score_lgb = Lgb.predict_proba(X_test)[:,1]\n",
    "\n",
    "fpr_lr,tpr_lr,thresholds_lr=roc_curve(y_test,lr.predict_proba(X_test)[:,1],pos_label=1)\n",
    "fpr_svc,tpr_svc,thresholds_svc = roc_curve(y_test,Svc.predict_proba(X_test)[:,1],pos_label=1)\n",
    "fpr_rfc,tpr_rfc,thresholds_rfc = roc_curve(y_test,Rfc.predict_proba(X_test)[:,1],pos_label=1)\n",
    "fpr_clf,tpr_clf,thresholds_clf = roc_curve(y_test,dt.predict_proba(X_test)[:,1],pos_label=1)\n",
    "fpr_gbc,tpr_gbc,thresholds_gbc = roc_curve(y_test,Gbdt.predict_proba(X_test)[:,1],pos_label=1)\n",
    "fpr_xgb,tpr_xgb,thresholds_xgb = roc_curve(y_test,Xgb.predict_proba(X_test)[:,1],pos_label=1)\n",
    "fpr_lgb,tpr_lgb,thresholds_lgb = roc_curve(y_test,Lgb.predict_proba(X_test)[:,1],pos_label=1)\n",
    "\n",
    "plt.figure(figsize=[6,6])\n",
    "plt.plot(fpr_lr,tpr_lr, color='black')\n",
    "plt.plot(fpr_svc,tpr_svc, color='red')\n",
    "plt.plot(fpr_rfc,tpr_rfc, color='green')\n",
    "plt.plot(fpr_clf,tpr_clf, color='blue')\n",
    "plt.plot(fpr_gbc,tpr_gbc, color='yellow')\n",
    "plt.plot(fpr_xgb,tpr_xgb, color='brown')\n",
    "plt.plot(fpr_lgb,tpr_lgb, color='purple')\n",
    "plt.title('ROC curve')\n"
   ]
  },
  {
   "cell_type": "code",
   "execution_count": null,
   "metadata": {
    "collapsed": true
   },
   "outputs": [],
   "source": []
  }
 ],
 "metadata": {
  "kernelspec": {
   "display_name": "Python 3",
   "language": "python",
   "name": "python3"
  },
  "language_info": {
   "codemirror_mode": {
    "name": "ipython",
    "version": 3
   },
   "file_extension": ".py",
   "mimetype": "text/x-python",
   "name": "python",
   "nbconvert_exporter": "python",
   "pygments_lexer": "ipython3",
   "version": "3.6.0"
  },
  "toc": {
   "base_numbering": 1,
   "nav_menu": {},
   "number_sections": true,
   "sideBar": true,
   "skip_h1_title": false,
   "title_cell": "Table of Contents",
   "title_sidebar": "Contents",
   "toc_cell": false,
   "toc_position": {},
   "toc_section_display": true,
   "toc_window_display": false
  }
 },
 "nbformat": 4,
 "nbformat_minor": 2
}
